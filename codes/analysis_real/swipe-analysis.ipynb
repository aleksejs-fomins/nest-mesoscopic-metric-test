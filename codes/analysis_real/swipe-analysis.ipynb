{
 "cells": [
  {
   "cell_type": "code",
   "execution_count": 2,
   "metadata": {},
   "outputs": [
    {
     "name": "stdout",
     "output_type": "stream",
     "text": [
      "Appended library directory /media/aleksejs/DataHDD/work/codes/theoretical-models/experimental-bridge/nest-mesoscopic-metric-test/codes/lib\n"
     ]
    }
   ],
   "source": [
    "# Standard libraries\n",
    "import numpy as np\n",
    "import h5py\n",
    "import matplotlib.pyplot as plt\n",
    "from ipywidgets import interactive\n",
    "\n",
    "# Append base directory\n",
    "import os,sys,inspect\n",
    "currentdir = os.path.dirname(os.path.abspath(inspect.getfile(inspect.currentframe())))\n",
    "path1p = os.path.dirname(currentdir)\n",
    "path2p = os.path.dirname(path1p)\n",
    "libpath = os.path.join(path1p, \"lib\")\n",
    "pwd_mat = os.path.join(os.path.join(path2p, \"data/\"), \"sim_ds_mat\")\n",
    "pwd_h5 = os.path.join(os.path.join(path2p, \"data/\"), \"sim_ds_h5\")\n",
    "\n",
    "sys.path.insert(0, libpath) \n",
    "print(\"Appended library directory\", libpath)\n",
    "\n",
    "# User libraries\n",
    "from matlab.matlab_yaro_lib import read_mat\n",
    "from signal_lib import downsample\n",
    "from corr_lib import sprMat\n",
    "from idtxl_wrapper import idtxlResults2matrix\n",
    "\n",
    "# IDTxl libraries\n",
    "from idtxl.bivariate_mi import BivariateMI\n",
    "from idtxl.multivariate_mi import MultivariateMI\n",
    "from idtxl.bivariate_te import BivariateTE\n",
    "from idtxl.multivariate_te import MultivariateTE\n",
    "from idtxl.data import Data\n",
    "from idtxl.visualise_graph import plot_network"
   ]
  },
  {
   "cell_type": "code",
   "execution_count": 23,
   "metadata": {},
   "outputs": [],
   "source": [
    "def getData(fname):\n",
    "    filename = os.path.join(pwd_h5, fname)\n",
    "    h5f = h5py.File(filename, \"r\")\n",
    "    TE_3D = np.copy(h5f['results']['TE_table'])\n",
    "    lag_3D = np.copy(h5f['results']['delay_table'])\n",
    "    p_3D = np.copy(h5f['results']['p_table'])\n",
    "    h5f.close()\n",
    "    return TE_3D, lag_3D, p_3D\n",
    "    \n",
    "bte_te, bte_lag, bte_p = getData(\"mtp_15_2018_05_19_a_BivariateTE.h5\")\n",
    "mte_te, mte_lag, mte_p = getData(\"mtp_15_2018_05_19_a_MultivariateTE.h5\")"
   ]
  },
  {
   "cell_type": "code",
   "execution_count": 24,
   "metadata": {
    "scrolled": false
   },
   "outputs": [
    {
     "data": {
      "application/vnd.jupyter.widget-view+json": {
       "model_id": "a164458f29aa436aa62616280d66f0cb",
       "version_major": 2,
       "version_minor": 0
      },
      "text/plain": [
       "interactive(children=(IntSlider(value=24, description='i', max=49), Output(layout=Layout(height='500px'))), _d…"
      ]
     },
     "metadata": {},
     "output_type": "display_data"
    }
   ],
   "source": [
    "# Interactive\n",
    "def f(i):\n",
    "    fig, ax = plt.subplots(nrows = 2, ncols = 3, figsize=(12, 8))\n",
    "    ax[0][0].imshow(bte_te[:,:,i], cmap=\"jet\", vmin=0, vmax=1)\n",
    "    ax[1][0].imshow(mte_te[:,:,i], cmap=\"jet\", vmin=0, vmax=1)\n",
    "    ax[0][1].imshow(bte_lag[:,:,i], cmap=\"jet\", vmin=1, vmax=5)\n",
    "    ax[1][1].imshow(mte_lag[:,:,i], cmap=\"jet\", vmin=1, vmax=5)\n",
    "    ax[0][2].imshow(bte_p[:,:,i], cmap=\"jet\", vmin=0, vmax=1)\n",
    "    ax[1][2].imshow(mte_p[:,:,i], cmap=\"jet\", vmin=0, vmax=1)\n",
    "    \n",
    "    ax[0][0].set_ylabel(\"Bivariate\")\n",
    "    ax[1][0].set_ylabel(\"Multivatiate\")\n",
    "    ax[0][0].set_title(\"TE\")\n",
    "    ax[0][1].set_title(\"delay\")\n",
    "    ax[0][2].set_title(\"p-value\")\n",
    "    plt.show()\n",
    "    \n",
    "interactive_plot = interactive(f, i=(0, TE_3D.shape[2]-1, 1))\n",
    "output = interactive_plot.children[-1]\n",
    "output.layout.height = '500px'\n",
    "interactive_plot"
   ]
  },
  {
   "cell_type": "code",
   "execution_count": null,
   "metadata": {
    "collapsed": true
   },
   "outputs": [],
   "source": []
  }
 ],
 "metadata": {
  "kernelspec": {
   "display_name": "Python 3",
   "language": "python",
   "name": "python3"
  },
  "language_info": {
   "codemirror_mode": {
    "name": "ipython",
    "version": 3
   },
   "file_extension": ".py",
   "mimetype": "text/x-python",
   "name": "python",
   "nbconvert_exporter": "python",
   "pygments_lexer": "ipython3",
   "version": "3.6.4"
  }
 },
 "nbformat": 4,
 "nbformat_minor": 2
}
