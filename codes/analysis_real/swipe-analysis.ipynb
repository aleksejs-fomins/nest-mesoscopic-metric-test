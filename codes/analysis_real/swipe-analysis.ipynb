{
 "cells": [
  {
   "cell_type": "code",
   "execution_count": null,
   "metadata": {},
   "outputs": [],
   "source": [
    "# Standard libraries\n",
    "import numpy as np\n",
    "import h5py\n",
    "import matplotlib.pyplot as plt\n",
    "from ipywidgets import interactive\n",
    "\n",
    "# Append base directory\n",
    "import os,sys,inspect\n",
    "currentdir = os.path.dirname(os.path.abspath(inspect.getfile(inspect.currentframe())))\n",
    "path1p = os.path.dirname(currentdir)\n",
    "path2p = os.path.dirname(path1p)\n",
    "libpath = os.path.join(path1p, \"lib\")\n",
    "pwd_mat = os.path.join(os.path.join(path2p, \"data/\"), \"sim_ds_mat\")\n",
    "pwd_h5 = os.path.join(os.path.join(path2p, \"data/\"), \"sim_ds_h5\")\n",
    "\n",
    "sys.path.insert(0, libpath) \n",
    "print(\"Appended library directory\", libpath)\n",
    "\n",
    "# User libraries\n",
    "from matlab.matlab_yaro_lib import read_mat\n",
    "from signal_lib import downsample\n",
    "from corr_lib import sprMat\n",
    "from qt_wrapper import gui_fnames\n",
    "#from idtxl_wrapper import idtxlResultsParse"
   ]
  },
  {
   "cell_type": "markdown",
   "metadata": {},
   "source": [
    "## Processing single point data"
   ]
  },
  {
   "cell_type": "code",
   "execution_count": null,
   "metadata": {
    "collapsed": true
   },
   "outputs": [],
   "source": [
    "def getData(fname):\n",
    "    filename = os.path.join(pwd_h5, os.path.join(\"real_data\", fname))\n",
    "    h5f = h5py.File(filename, \"r\")\n",
    "    TE = np.copy(h5f['results']['TE_table'])\n",
    "    lag = np.copy(h5f['results']['delay_table'])\n",
    "    p = np.copy(h5f['results']['p_table'])\n",
    "    h5f.close()\n",
    "    return TE, lag, p"
   ]
  },
  {
   "cell_type": "code",
   "execution_count": null,
   "metadata": {},
   "outputs": [],
   "source": [
    "datafilenames = np.array(gui_fnames(\"IDTXL swipe result files...\", directory='./', filter=\"HDF5 Files (*.h5)\"))\n",
    "basenames     = np.array([os.path.basename(name) for name in datafilenames])\n",
    "print(\"Total user files\", len(datafilenames))"
   ]
  },
  {
   "cell_type": "code",
   "execution_count": null,
   "metadata": {
    "scrolled": false
   },
   "outputs": [],
   "source": [
    "##################################\n",
    "# Parse metadata from filenames\n",
    "##################################\n",
    "\n",
    "# By Analysis type\n",
    "isAnalysis = {}\n",
    "isAnalysis['swipe'] = np.array([\"swipe\" in name for name in basenames], dtype=int)\n",
    "isAnalysis['range'] = np.array([\"range\" in name for name in basenames], dtype=int)\n",
    "isAnalysis['all'] = isAnalysis['swipe'] + isAnalysis['range'] == 0\n",
    "\n",
    "# Determine if file uses GO, NOGO, or all\n",
    "isTrial = {}\n",
    "isTrial['GO'] = np.array([\"iGO\" in name for name in basenames], dtype=int)\n",
    "isTrial['NOGO'] = np.array([\"iNOGO\" in name for name in basenames], dtype=int)\n",
    "isTrial['ALL']  = isTrial['GO'] + isTrial['NOGO'] == 0\n",
    "\n",
    "# Determine range types\n",
    "isRange = {}\n",
    "isRange['CUE'] = np.array([\"CUE\" in name for name in basenames], dtype=int)\n",
    "isRange['TEX'] = np.array([\"TEX\" in name for name in basenames], dtype=int)\n",
    "isRange['LIK'] = np.array([\"LIK\" in name for name in basenames], dtype=int)\n",
    "isRange['none'] = isRange['CUE'] + isRange['TEX'] + isRange['LIK'] == 0\n",
    "\n",
    "# Determine which method was used\n",
    "isMethod = {}\n",
    "isMethod['BTE'] = np.array([\"BivariateTE\" in name for name in basenames], dtype=int)\n",
    "isMethod['MTE'] = np.array([\"MultivariateTE\" in name for name in basenames], dtype=int)\n",
    "\n",
    "# Determine mouse which was used\n",
    "mouse_names = [\"_\".join(name.split('_')[:2]) for name in basenames]\n",
    "\n",
    "print(\"Selected only swipe files :::\", len(datafilenames))\n",
    "print(\"By Analysis :::\", {k: np.sum(v) for k,v in isAnalysis.items()})\n",
    "print(\"By Trial    :::\", {k: np.sum(v) for k,v in isTrial.items()})\n",
    "print(\"By Range    :::\", {k: np.sum(v) for k,v in isRange.items()})\n",
    "print(\"By Method   :::\", {k: np.sum(v) for k,v in isMethod.items()})\n",
    "print(\"By Mouse    :::\", {k: mouse_names.count(k) for k in set(mouse_names)})"
   ]
  },
  {
   "cell_type": "markdown",
   "metadata": {},
   "source": [
    "## Swipe Analysis"
   ]
  },
  {
   "cell_type": "code",
   "execution_count": null,
   "metadata": {},
   "outputs": [],
   "source": [
    "isCorrectMouse = np.array([mname == 'mtp_15' for mname in mouse_names], dtype=int)\n",
    "\n",
    "fig1, ax1 = plt.subplots(nrows=1, ncols=2, figsize=(15,7.5))\n",
    "totalConnPerConn = []\n",
    "\n",
    "for i, trial in enumerate([\"ALL\"]):#[\"GO\",\"NOGO\"]):\n",
    "    totalConnPerConn.append([])\n",
    "    for j, method in enumerate([\"BTE\",\"MTE\"]):\n",
    "        ax1[j].set_title(method)\n",
    "        \n",
    "        totalConnPerConn[-1].append([])\n",
    "        idxs_ths = isCorrectMouse + isAnalysis[\"swipe\"] + isTrial[trial] + isMethod[method] == 4\n",
    "        print(\"For trials\", trial,\"method\", method, \"have\", np.sum(idxs_ths), \"files\")\n",
    "        \n",
    "        for fname, basename in zip(datafilenames[idxs_ths], basenames[idxs_ths]):\n",
    "            print(\"Processing file: \", basename)\n",
    "            te, lag, p = getData(fname)\n",
    "            \n",
    "            times = 0.2 * np.linspace(0, te.shape[2], te.shape[2])\n",
    "            totalConnPerTime = [np.sum(1-np.isnan(te[:,:,i]).astype(int)) for i in range(te.shape[2])]\n",
    "            totalConnPerConn[-1][-1].append(np.sum(1-np.isnan(te).astype(int), axis=2).flatten()  / (te.shape[0]**2 - te.shape[0]))\n",
    "            \n",
    "            ax1[j].plot(times, totalConnPerTime)\n",
    "            ax1[j].axhline(y=4 if method==\"BTE\" else 1, linestyle=\"--\")\n",
    "            ax1[j].set_xlabel(\"start_time, seconds\")\n",
    "            ax1[j].set_ylabel(method)\n",
    "\n",
    "fig2, ax2 = plt.subplots(nrows=1, ncols=2, figsize=(15,7.5))\n",
    "for i, trial in enumerate([\"ALL\"]):#[\"GO\",\"NOGO\"]):\n",
    "    for j, method in enumerate([\"BTE\",\"MTE\"]):\n",
    "        \n",
    "        ax2[j].set_xlabel(\"connection index, sorted\")\n",
    "        ax2[j].set_ylabel(\"Frequency of occurence\")\n",
    "        \n",
    "        thisConn = np.array(totalConnPerConn[i][j])\n",
    "        sortedArgs = np.flip(np.argsort(np.sum(thisConn, axis=0)))\n",
    "        \n",
    "        for conn in totalConnPerConn[i][j]:\n",
    "            ax2[j].plot(conn[sortedArgs], '.')"
   ]
  },
  {
   "cell_type": "markdown",
   "metadata": {},
   "source": [
    "## Range Analysis"
   ]
  },
  {
   "cell_type": "code",
   "execution_count": null,
   "metadata": {},
   "outputs": [],
   "source": [
    "isCorrectMouse = np.array([mname == 'mtp_15' for mname in mouse_names], dtype=int)\n",
    "\n",
    "fig1, ax1 = plt.subplots(ncols=2, figsize=(10, 5))\n",
    "fig2, ax2 = plt.subplots(nrows=2, ncols=3, figsize=(15, 5), tight_layout=True)\n",
    "\n",
    "for i, trial in enumerate([\"ALL\"]):\n",
    "    for j, method in enumerate([\"BTE\",\"MTE\"]):\n",
    "        ax2[j][0].set_ylabel(method)\n",
    "        \n",
    "        for k, rng in enumerate([\"CUE\", \"TEX\", \"LIK\"]):\n",
    "            ax2[0][k].set_title(rng)\n",
    "            \n",
    "            idxs_ths = isCorrectMouse + isAnalysis[\"range\"] + isTrial[trial] + isMethod[method] + isRange[rng] == 5\n",
    "            print(\"For trials\", trial,\"range\", rng,\"method\", method, \"have\", np.sum(idxs_ths), \"files\")\n",
    "            \n",
    "            nConn = []\n",
    "            actSum = np.zeros((12,12))\n",
    "            for fname, basename in zip(datafilenames[idxs_ths], basenames[idxs_ths]):\n",
    "#                 print(\"Processing file: \", basename)\n",
    "                te, lag, p = getData(fname)\n",
    "\n",
    "                isActive = 1-np.isnan(te).astype(int)\n",
    "                actSum += isActive\n",
    "                nConn += [np.sum(isActive) / (te.shape[0]**2 - te.shape[0])]\n",
    "#                 totalConnPerConn[-1][-1].append(np.sum(1-np.isnan(te).astype(int), axis=2).flatten()  / (te.shape[0]**2 - te.shape[0]))\n",
    "\n",
    "            ax1[j].plot(nConn, label=rng)\n",
    "            ax2[j][k].imshow(actSum)\n",
    "    \n",
    "        ax1[j].set_title(method)\n",
    "        ax1[j].set_xlabel(\"day/file\")\n",
    "        ax1[j].set_ylabel(\"ratio of active connections\")\n",
    "        ax1[j].legend()\n",
    "\n",
    "\n",
    "        "
   ]
  },
  {
   "cell_type": "code",
   "execution_count": null,
   "metadata": {
    "collapsed": true
   },
   "outputs": [],
   "source": [
    "# for model in [\"BivariateTE\", \"MultivariateTE\"]:\n",
    "#     for i in range(16, 20):\n",
    "#         for rng in [\"CUE\", \"TEX\", \"LIK\"]:\n",
    "#             fname = \"mtp_15_2018_05_\" + str(i) + \"_a_\" + model + \"_range_\" + rng + \".h5\"\n",
    "#             te, lag, p = getData(fname)\n",
    "            \n",
    "#             fig, ax = plt.subplots(ncols = 3, figsize=(15, 5))\n",
    "#             ax[0].imshow(te[:,:], cmap=\"jet\", vmin=0, vmax=1)\n",
    "#             ax[1].imshow(lag[:,:], cmap=\"jet\", vmin=1, vmax=5)\n",
    "#             ax[2].imshow(p[:,:], cmap=\"jet\", vmin=0, vmax=1)\n",
    "#             ax[0].set_title(\"TE\")\n",
    "#             ax[1].set_title(\"delay\")\n",
    "#             ax[2].set_title(\"p-value\")\n",
    "            \n",
    "#             fig.suptitle(fname)\n",
    "#             plt.show()"
   ]
  },
  {
   "cell_type": "markdown",
   "metadata": {},
   "source": [
    "## Processing swipe Data"
   ]
  },
  {
   "cell_type": "code",
   "execution_count": null,
   "metadata": {
    "scrolled": false
   },
   "outputs": [],
   "source": [
    "bte_te, bte_lag, bte_p = getData(\"mtp_15_2018_05_19_a_BivariateTE_swipe.h5\")\n",
    "mte_te, mte_lag, mte_p = getData(\"mtp_15_2018_05_19_a_MultivariateTE_swipe.h5\")\n",
    "\n",
    "# Interactive\n",
    "def f(i):\n",
    "    fig, ax = plt.subplots(nrows = 2, ncols = 3, figsize=(12, 8))\n",
    "    ax[0][0].imshow(bte_te[:,:,i], cmap=\"jet\", vmin=0, vmax=1)\n",
    "    ax[1][0].imshow(mte_te[:,:,i], cmap=\"jet\", vmin=0, vmax=1)\n",
    "    ax[0][1].imshow(bte_lag[:,:,i], cmap=\"jet\", vmin=1, vmax=5)\n",
    "    ax[1][1].imshow(mte_lag[:,:,i], cmap=\"jet\", vmin=1, vmax=5)\n",
    "    ax[0][2].imshow(bte_p[:,:,i], cmap=\"jet\", vmin=0, vmax=1)\n",
    "    ax[1][2].imshow(mte_p[:,:,i], cmap=\"jet\", vmin=0, vmax=1)\n",
    "    \n",
    "    ax[0][0].set_ylabel(\"Bivariate\")\n",
    "    ax[1][0].set_ylabel(\"Multivatiate\")\n",
    "    ax[0][0].set_title(\"TE\")\n",
    "    ax[0][1].set_title(\"delay\")\n",
    "    ax[0][2].set_title(\"p-value\")\n",
    "    plt.show()\n",
    "    \n",
    "interactive_plot = interactive(f, i=(0, bte_te.shape[2]-1, 1))\n",
    "output = interactive_plot.children[-1]\n",
    "output.layout.height = '500px'\n",
    "interactive_plot"
   ]
  },
  {
   "cell_type": "code",
   "execution_count": null,
   "metadata": {
    "collapsed": true
   },
   "outputs": [],
   "source": []
  }
 ],
 "metadata": {
  "kernelspec": {
   "display_name": "Python 3",
   "language": "python",
   "name": "python3"
  },
  "language_info": {
   "codemirror_mode": {
    "name": "ipython",
    "version": 3
   },
   "file_extension": ".py",
   "mimetype": "text/x-python",
   "name": "python",
   "nbconvert_exporter": "python",
   "pygments_lexer": "ipython3",
   "version": "3.6.4"
  }
 },
 "nbformat": 4,
 "nbformat_minor": 2
}
