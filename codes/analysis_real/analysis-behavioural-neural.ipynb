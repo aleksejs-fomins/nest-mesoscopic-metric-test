{
 "cells": [
  {
   "cell_type": "code",
   "execution_count": 1,
   "metadata": {},
   "outputs": [
    {
     "name": "stderr",
     "output_type": "stream",
     "text": [
      "/opt/anaconda3/envs/py36qt5/lib/python3.6/site-packages/h5py/__init__.py:36: FutureWarning: Conversion of the second argument of issubdtype from `float` to `np.floating` is deprecated. In future, it will be treated as `np.float64 == np.dtype(float).type`.\n",
      "  from ._conv import register_converters as _register_converters\n"
     ]
    },
    {
     "name": "stdout",
     "output_type": "stream",
     "text": [
      "Appended library directory /media/aleksejs/DataHDD/work/codes/theoretical-models/experimental-bridge/nest-mesoscopic-metric-test/codes/lib\n"
     ]
    }
   ],
   "source": [
    "# Standard libraries\n",
    "import numpy as np\n",
    "import h5py\n",
    "import pandas as pd\n",
    "import matplotlib.pyplot as plt\n",
    "from ipywidgets import interactive, IntProgress\n",
    "from IPython.display import display\n",
    "\n",
    "# Append base directory\n",
    "import os,sys,inspect\n",
    "currentdir = os.path.dirname(os.path.abspath(inspect.getfile(inspect.currentframe())))\n",
    "path1p = os.path.dirname(currentdir)\n",
    "path2p = os.path.dirname(path1p)\n",
    "libpath = os.path.join(path1p, \"lib\")\n",
    "pwd_mat = os.path.join(os.path.join(path2p, \"data/\"), \"sim_ds_mat\")\n",
    "pwd_h5 = os.path.join(os.path.join(path2p, \"data/\"), \"sim_ds_h5\")\n",
    "\n",
    "sys.path.insert(0, libpath)\n",
    "print(\"Appended library directory\", libpath)\n",
    "\n",
    "# User libraries\n",
    "from signal_lib import resample\n",
    "from corr_lib import sprMat\n",
    "from qt_wrapper import gui_fnames, gui_fpath\n",
    "\n",
    "from matlab.h5data_lib import readTE_H5, getStatistics, parseTEfolders, getTitlesAndIndices\n",
    "from matlab.matlab_yaro_lib import read_neuro_perf, read_paw, read_lick, read_whisk\n",
    "from matlab.parse_folders import parseFoldersMulti\n",
    "from matlab.preprocess_behaviour import resample_lick, resample_paw, resample_whisk"
   ]
  },
  {
   "cell_type": "code",
   "execution_count": 2,
   "metadata": {
    "collapsed": true
   },
   "outputs": [],
   "source": [
    "%load_ext autoreload\n",
    "%autoreload 2\n",
    "\n",
    "from matlab.parse_folders import parseFoldersMulti"
   ]
  },
  {
   "cell_type": "markdown",
   "metadata": {},
   "source": [
    "# Automatically find subfolders for data and behaviour"
   ]
  },
  {
   "cell_type": "code",
   "execution_count": 3,
   "metadata": {
    "collapsed": true
   },
   "outputs": [],
   "source": [
    "tmp_path = root_path_data if 'root_path_data' in locals() else \"./\"\n",
    "root_path_data  = gui_fpath(\"Path to data collection\", tmp_path)\n",
    "root_path_paw   = gui_fpath(\"Path to Paw data\",        root_path_data)\n",
    "root_path_lick  = gui_fpath(\"Path to Lick data\",       root_path_paw)\n",
    "root_path_whisk = gui_fpath(\"Path to Whisk Data\",      root_path_lick)"
   ]
  },
  {
   "cell_type": "code",
   "execution_count": 4,
   "metadata": {},
   "outputs": [
    {
     "name": "stdout",
     "output_type": "stream",
     "text": [
      "Number of day folders for each mouse\n"
     ]
    },
    {
     "data": {
      "text/html": [
       "<div>\n",
       "<style scoped>\n",
       "    .dataframe tbody tr th:only-of-type {\n",
       "        vertical-align: middle;\n",
       "    }\n",
       "\n",
       "    .dataframe tbody tr th {\n",
       "        vertical-align: top;\n",
       "    }\n",
       "\n",
       "    .dataframe thead th {\n",
       "        text-align: right;\n",
       "    }\n",
       "</style>\n",
       "<table border=\"1\" class=\"dataframe\">\n",
       "  <thead>\n",
       "    <tr style=\"text-align: right;\">\n",
       "      <th></th>\n",
       "      <th>Data</th>\n",
       "      <th>Lick</th>\n",
       "      <th>Paw</th>\n",
       "      <th>Whisk</th>\n",
       "    </tr>\n",
       "  </thead>\n",
       "  <tbody>\n",
       "    <tr>\n",
       "      <th>mtp_11</th>\n",
       "      <td>12</td>\n",
       "      <td>15</td>\n",
       "      <td>6</td>\n",
       "      <td>11</td>\n",
       "    </tr>\n",
       "    <tr>\n",
       "      <th>mtp_16</th>\n",
       "      <td>13</td>\n",
       "      <td>13</td>\n",
       "      <td>0</td>\n",
       "      <td>14</td>\n",
       "    </tr>\n",
       "    <tr>\n",
       "      <th>mtp_12</th>\n",
       "      <td>24</td>\n",
       "      <td>20</td>\n",
       "      <td>30</td>\n",
       "      <td>17</td>\n",
       "    </tr>\n",
       "    <tr>\n",
       "      <th>mtp_10</th>\n",
       "      <td>8</td>\n",
       "      <td>10</td>\n",
       "      <td>11</td>\n",
       "      <td>8</td>\n",
       "    </tr>\n",
       "    <tr>\n",
       "      <th>mtp_9</th>\n",
       "      <td>0</td>\n",
       "      <td>7</td>\n",
       "      <td>4</td>\n",
       "      <td>7</td>\n",
       "    </tr>\n",
       "    <tr>\n",
       "      <th>mtp_1</th>\n",
       "      <td>9</td>\n",
       "      <td>11</td>\n",
       "      <td>0</td>\n",
       "      <td>11</td>\n",
       "    </tr>\n",
       "    <tr>\n",
       "      <th>mtp_7</th>\n",
       "      <td>18</td>\n",
       "      <td>23</td>\n",
       "      <td>4</td>\n",
       "      <td>24</td>\n",
       "    </tr>\n",
       "    <tr>\n",
       "      <th>mtp_8</th>\n",
       "      <td>0</td>\n",
       "      <td>0</td>\n",
       "      <td>0</td>\n",
       "      <td>3</td>\n",
       "    </tr>\n",
       "    <tr>\n",
       "      <th>mtp_2</th>\n",
       "      <td>8</td>\n",
       "      <td>8</td>\n",
       "      <td>0</td>\n",
       "      <td>10</td>\n",
       "    </tr>\n",
       "    <tr>\n",
       "      <th>mtp_13</th>\n",
       "      <td>12</td>\n",
       "      <td>13</td>\n",
       "      <td>8</td>\n",
       "      <td>10</td>\n",
       "    </tr>\n",
       "    <tr>\n",
       "      <th>mtp_15</th>\n",
       "      <td>13</td>\n",
       "      <td>13</td>\n",
       "      <td>0</td>\n",
       "      <td>14</td>\n",
       "    </tr>\n",
       "  </tbody>\n",
       "</table>\n",
       "</div>"
      ],
      "text/plain": [
       "        Data  Lick  Paw  Whisk\n",
       "mtp_11    12    15    6     11\n",
       "mtp_16    13    13    0     14\n",
       "mtp_12    24    20   30     17\n",
       "mtp_10     8    10   11      8\n",
       "mtp_9      0     7    4      7\n",
       "mtp_1      9    11    0     11\n",
       "mtp_7     18    23    4     24\n",
       "mtp_8      0     0    0      3\n",
       "mtp_2      8     8    0     10\n",
       "mtp_13    12    13    8     10\n",
       "mtp_15    13    13    0     14"
      ]
     },
     "execution_count": 4,
     "metadata": {},
     "output_type": "execute_result"
    }
   ],
   "source": [
    "micePathArr, summary = parseFoldersMulti(root_path_data, root_path_paw, root_path_lick, root_path_whisk)\n",
    "mice = list(set(micePathArr[:, 0]))\n",
    "\n",
    "print(\"Number of day folders for each mouse\")\n",
    "pd.DataFrame(summary, index=mice)"
   ]
  },
  {
   "cell_type": "markdown",
   "metadata": {},
   "source": [
    "# Read available data and behaviour, resample"
   ]
  },
  {
   "cell_type": "code",
   "execution_count": 5,
   "metadata": {
    "collapsed": true
   },
   "outputs": [],
   "source": [
    "def findPathIdx(typeKey, mouseDayKey):\n",
    "    rez = np.where((micePathArr[:, 1] == typeKey)&(micePathArr[:, 3] == mouseDayKey))[0]\n",
    "    if len(rez)==0:\n",
    "        return None\n",
    "    elif len(rez)==1:\n",
    "        return rez[0]\n",
    "    else:\n",
    "        raise ValueError(\"Expected 0 or 1 results, got\", len(rez))\n",
    "        \n",
    "def findDataIdx(pathIdx):\n",
    "    return np.where(miceDataIdxs == pathIdx)[0][0]"
   ]
  },
  {
   "cell_type": "code",
   "execution_count": 6,
   "metadata": {
    "scrolled": false
   },
   "outputs": [
    {
     "data": {
      "application/vnd.jupyter.widget-view+json": {
       "model_id": "7fbf682738254d038b8b46a4280dce84",
       "version_major": 2,
       "version_minor": 0
      },
      "text/plain": [
       "IntProgress(value=0, description='Read Neuro Data:', max=117)"
      ]
     },
     "metadata": {},
     "output_type": "display_data"
    },
    {
     "name": "stdout",
     "output_type": "stream",
     "text": [
      "Behaviour has more trials than data 438 437\n",
      "Behaviour max index must be less than number of trials 437 437\n",
      "Target trial within [0, 8] sec. Total target timesteps 161\n"
     ]
    },
    {
     "data": {
      "application/vnd.jupyter.widget-view+json": {
       "model_id": "a2087c50f2e74ca6b45e3950400f4d27",
       "version_major": 2,
       "version_minor": 0
      },
      "text/plain": [
       "IntProgress(value=0, description='Read paw data:', max=63)"
      ]
     },
     "metadata": {},
     "output_type": "display_data"
    },
    {
     "data": {
      "application/vnd.jupyter.widget-view+json": {
       "model_id": "632d45d17ea14320bca1aa4405e71b6a",
       "version_major": 2,
       "version_minor": 0
      },
      "text/plain": [
       "IntProgress(value=0, description='Read lick data:', max=133)"
      ]
     },
     "metadata": {},
     "output_type": "display_data"
    },
    {
     "name": "stdout",
     "output_type": "stream",
     "text": [
      "Lick trial count inconsistent with neuronal 105 106\n",
      "Inferred from behaviour [41, 36, 14, 14]\n",
      "Inferred from lick      [41, 36, 14, 14, 0]\n",
      "Lick trial count inconsistent with neuronal 162 163\n",
      "Inferred from behaviour [68, 63, 23, 8]\n",
      "Inferred from lick      [68, 63, 23, 8, 0]\n",
      "Lick trial count inconsistent with neuronal 339 340\n",
      "Inferred from behaviour [148, 138, 49, 4]\n",
      "Inferred from lick      [148, 138, 49, 4, 0]\n",
      "Lick trial count inconsistent with neuronal 46 47\n",
      "Inferred from behaviour [20, 12, 11, 3]\n",
      "Inferred from lick      [20, 12, 11, 3, 0]\n",
      "Lick trial count inconsistent with neuronal 430 431\n",
      "Inferred from behaviour [197, 216, 1, 16]\n",
      "Inferred from lick      [197, 216, 1, 16, 0]\n",
      "Lick trial count inconsistent with neuronal 438 437\n",
      "Inferred from behaviour [116, 96, 140, 86]\n",
      "Inferred from lick      [116, 96, 140, 86, 0]\n",
      "Trial count inside file inconsistent 939 940 940 940\n",
      "Lick trial count inconsistent with neuronal 940 939\n",
      "Inferred from behaviour [248, 183, 458, 50]\n",
      "Inferred from lick      [249, 183, 458, 50, 0]\n",
      "Lick trial count for iGO inconsistent with neuronal 248 249\n",
      "Inferred from behaviour [248, 183, 458, 50]\n",
      "Inferred from lick      [249, 183, 458, 50, 0]\n",
      "Lick trial count inconsistent with neuronal 818 817\n",
      "Inferred from behaviour [202, 257, 192, 166]\n",
      "Inferred from lick      [202, 258, 192, 166, 0]\n",
      "Lick trial count for iNOGO inconsistent with neuronal 257 258\n",
      "Inferred from behaviour [202, 257, 192, 166]\n",
      "Inferred from lick      [202, 258, 192, 166, 0]\n"
     ]
    },
    {
     "data": {
      "application/vnd.jupyter.widget-view+json": {
       "model_id": "85d73b3298b24286bffc875921c7d106",
       "version_major": 2,
       "version_minor": 0
      },
      "text/plain": [
       "IntProgress(value=0, description='Read whisk data:', max=129)"
      ]
     },
     "metadata": {},
     "output_type": "display_data"
    },
    {
     "name": "stdout",
     "output_type": "stream",
     "text": [
      "Warning: first touch file does not exist /mnt/hifo_scratch1/Yaro/data_for_TE/behavior/mtp_12_whisk_touch/mtp_16/mtp_16_2018_05_16_a/mtp_16_2018_05_16_a.txt\n",
      "Warning: first touch file does not exist /mnt/hifo_scratch1/Yaro/data_for_TE/behavior/mtp_12_whisk_touch/mtp_16/mtp_16_2018_05_17_a/mtp_16_2018_05_17_a.txt\n",
      "Warning: first touch file does not exist /mnt/hifo_scratch1/Yaro/data_for_TE/behavior/mtp_12_whisk_touch/mtp_16/mtp_16_2018_05_19_a/mtp_16_2018_05_19_a.txt\n",
      "Warning: first touch file does not exist /mnt/hifo_scratch1/Yaro/data_for_TE/behavior/mtp_12_whisk_touch/mtp_16/mtp_16_2018_05_20_a/mtp_16_2018_05_20_a.txt\n",
      "Warning: first touch file does not exist /mnt/hifo_scratch1/Yaro/data_for_TE/behavior/mtp_12_whisk_touch/mtp_16/mtp_16_2018_05_22_a/mtp_16_2018_05_22_a.txt\n",
      "Warning: first touch file does not exist /mnt/hifo_scratch1/Yaro/data_for_TE/behavior/mtp_12_whisk_touch/mtp_16/mtp_16_2018_05_23_a/mtp_16_2018_05_23_a.txt\n",
      "Warning: first touch file does not exist /mnt/hifo_scratch1/Yaro/data_for_TE/behavior/mtp_12_whisk_touch/mtp_16/mtp_16_2018_05_24_a/mtp_16_2018_05_24_a.txt\n",
      "Warning: first touch file does not exist /mnt/hifo_scratch1/Yaro/data_for_TE/behavior/mtp_12_whisk_touch/mtp_16/mtp_16_2018_05_25_a/mtp_16_2018_05_25_a.txt\n",
      "Warning: first touch file does not exist /mnt/hifo_scratch1/Yaro/data_for_TE/behavior/mtp_12_whisk_touch/mtp_16/mtp_16_2018_05_29_a/mtp_16_2018_05_29_a.txt\n",
      "Warning: first touch file does not exist /mnt/hifo_scratch1/Yaro/data_for_TE/behavior/mtp_12_whisk_touch/mtp_16/mtp_16_2018_05_30_a/mtp_16_2018_05_30_a.txt\n",
      "Warning: first touch file does not exist /mnt/hifo_scratch1/Yaro/data_for_TE/behavior/mtp_12_whisk_touch/mtp_16/mtp_16_2018_05_31_a/mtp_16_2018_05_31_a.txt\n",
      "Warning: first touch file does not exist /mnt/hifo_scratch1/Yaro/data_for_TE/behavior/mtp_12_whisk_touch/mtp_16/mtp_16_2018_06_01_a/mtp_16_2018_06_01_a.txt\n",
      "Warning: first touch file does not exist /mnt/hifo_scratch1/Yaro/data_for_TE/behavior/mtp_12_whisk_touch/mtp_16/mtp_16_2018_06_04_a/mtp_16_2018_06_04_a.txt\n",
      "Warning: first touch file does not exist /mnt/hifo_scratch1/Yaro/data_for_TE/behavior/mtp_12_whisk_touch/mtp_16/mtp_16_2018_06_05_a/mtp_16_2018_06_05_a.txt\n",
      "Warning: first touch file does not exist /mnt/hifo_scratch1/Yaro/data_for_TE/behavior/mtp_12_whisk_touch/mtp_7/mtp_7_2016_05_04_a/mtp_7_2016_05_04_a.txt\n",
      "Warning: first touch file does not exist /mnt/hifo_scratch1/Yaro/data_for_TE/behavior/mtp_12_whisk_touch/mtp_7/mtp_7_2016_05_10_a/mtp_7_2016_05_10_a.txt\n",
      "Warning: first touch file does not exist /mnt/hifo_scratch1/Yaro/data_for_TE/behavior/mtp_12_whisk_touch/mtp_7/mtp_7_2016_05_11_a/mtp_7_2016_05_11_a.txt\n"
     ]
    }
   ],
   "source": [
    "# Read Neuronal data\n",
    "miceDataIdxs = np.where(micePathArr[:, 1] == 'data_path')[0]\n",
    "dataNeuronal = []\n",
    "dataTrials   = []\n",
    "progBar = IntProgress(min=0, max=miceDataIdxs.shape[0], description='Read Neuro Data:')\n",
    "display(progBar) # display the bar\n",
    "for datapath in micePathArr[miceDataIdxs, 2]:\n",
    "    data, behaviour = read_neuro_perf(datapath, verbose=False)\n",
    "    dataNeuronal += [data]\n",
    "    dataTrials   += [behaviour]\n",
    "    progBar.value += 1\n",
    "    \n",
    "# Define resampling frequency\n",
    "TARGET_RANGE = [0, 8] # Seconds goal\n",
    "TARGET_FREQ = 20 # Hz\n",
    "TARGET_NTIMES = int((TARGET_RANGE[1]-TARGET_RANGE[0])*TARGET_FREQ) + 1\n",
    "TARGET_TIMES = np.linspace(TARGET_RANGE[0], TARGET_RANGE[1], TARGET_NTIMES)\n",
    "print(\"Target trial within\", TARGET_RANGE, \"sec. Total target timesteps\", TARGET_NTIMES)\n",
    "    \n",
    "# Read and resample paw\n",
    "micePawIdxs = np.where(micePathArr[:, 1] == 'paw_path')[0]\n",
    "dataPawResampled = []\n",
    "progBar = IntProgress(min=0, max=micePawIdxs.shape[0], description='Read paw data:')\n",
    "display(progBar) # display the bar\n",
    "for pawpath in micePathArr[micePawIdxs, 2]:\n",
    "    dataPaw = read_paw(pawpath, verbose=False)\n",
    "    dataPawResampled += [resample_paw(dataPaw, TARGET_TIMES, TARGET_FREQ)]\n",
    "    progBar.value += 1\n",
    "\n",
    "# Read and resample lick\n",
    "miceLickIdxs = np.where(micePathArr[:, 1] == 'lick_path')[0]\n",
    "dataLickResampled = []\n",
    "progBar = IntProgress(min=0, max=miceLickIdxs.shape[0], description='Read lick data:')\n",
    "display(progBar) # display the bar\n",
    "for lickpath, lickbase in micePathArr[miceLickIdxs, 2:4]:\n",
    "    # Find behaviour associated with this lick\n",
    "    pathIdx = findPathIdx('data_path', lickbase)\n",
    "    if pathIdx is None:\n",
    "        dataLickResampled += [None]\n",
    "    else:\n",
    "        dataIdx = np.where(miceDataIdxs == pathIdx)[0][0]\n",
    "        neuro = dataNeuronal[dataIdx]\n",
    "        behaviour = dataTrials[dataIdx]\n",
    "        dataLick = read_lick(lickpath, verbose=False)\n",
    "        dataLickResampled += [resample_lick(dataLick, neuro, behaviour, TARGET_TIMES, TARGET_FREQ)]\n",
    "    progBar.value += 1\n",
    "\n",
    "\n",
    "# Read and resample whisk\n",
    "miceWhiskIdxs = np.where(micePathArr[:, 1] == 'whisk_path')[0]\n",
    "progBar = IntProgress(min=0, max=miceWhiskIdxs.shape[0], description='Read whisk data:')\n",
    "display(progBar) # display the bar\n",
    "dataWhiskResampled = []\n",
    "for whiskpath in micePathArr[miceWhiskIdxs, 2]:\n",
    "    dataWhisk = read_whisk(whiskpath, verbose=False)\n",
    "    dataWhiskResampled += [resample_whisk(dataWhisk, TARGET_TIMES)]\n",
    "    progBar.value += 1"
   ]
  },
  {
   "cell_type": "markdown",
   "metadata": {},
   "source": [
    "# Analysis\n",
    "\n",
    "## 1. Correlation and Synchrony"
   ]
  },
  {
   "cell_type": "code",
   "execution_count": 16,
   "metadata": {},
   "outputs": [
    {
     "name": "stdout",
     "output_type": "stream",
     "text": [
      "{'mtp_11': {'date': array([2016,    9,    6]), 'sychr': [0.2796691850677035]}, 'mtp_16': {'date': array([2018,    5,   16]), 'sychr': [0.6098886603407517]}, 'mtp_12': {'date': array([2016,   10,   26]), 'sychr': [0.35247005685144245]}, 'mtp_10': {'date': array([2016,    9,    7]), 'sychr': [0.24570216069865228]}, 'mtp_9': {'date': [], 'sychr': []}, 'mtp_1': {'date': array([2015,    6,   18]), 'sychr': [0.5433900310624592]}, 'mtp_7': {'date': array([2016,    2,   18]), 'sychr': [0.38196770307663586]}, 'mtp_8': {'date': [], 'sychr': []}, 'mtp_2': {'date': array([2015,    6,   19]), 'sychr': [0.48207846985099834]}, 'mtp_13': {'date': array([2017,    3,    8]), 'sychr': [0.5106373876026021]}, 'mtp_15': {'date': array([2018,    5,   16]), 'sychr': [0.4452706283397996]}}\n"
     ]
    }
   ],
   "source": [
    "# Read LVM file from command line\n",
    "\n",
    "synchrony_by_day = {}\n",
    "\n",
    "for mouse in mice:\n",
    "    synchrony_by_day[mouse] = {\"date\" : [], \"sychr\" : []}\n",
    "    \n",
    "    pathIdxs = np.where((micePathArr[:, 0] == mouse)&(micePathArr[:, 1] == 'data_path'))[0]\n",
    "    \n",
    "    for pathIdx in pathIdxs[:1]:\n",
    "        # Get data\n",
    "        dataIdx = findDataIdx(pathIdx)\n",
    "        data = dataNeuronal[dataIdx]\n",
    "\n",
    "        # Get parameters\n",
    "        nTrials, nTimes, nChannels = data.shape\n",
    "\n",
    "        data2D = []\n",
    "\n",
    "        for iCh in range(nChannels):\n",
    "            dataChannel = []\n",
    "            for iTr in range(nTrials):\n",
    "                dataChannel += [data[iTr, :, iCh] - np.mean(data[iTr, :, iCh])]\n",
    "            data2D += [np.array(dataChannel).flatten()]\n",
    "\n",
    "        # Compute normalization variances\n",
    "        s_data = [np.sqrt(np.correlate(d, d)) for d in data2D]\n",
    "\n",
    "        # Compute correlation\n",
    "        cr = np.zeros((nChannels, nChannels))\n",
    "        for iCh in range(nChannels):\n",
    "            for jCh in range(iCh+1, nChannels):\n",
    "                cr[iCh][jCh] = np.correlate(data2D[iCh], data2D[jCh]) / (s_data[iCh] * s_data[jCh])\n",
    "\n",
    "        dateThis = np.array(micePathArr[pathIdx, 3].split(\"_\")[2:5], dtype=int)\n",
    "        synchrony_by_day[mouse][\"date\"] = dateThis\n",
    "        synchrony_by_day[mouse][\"sychr\"] += [np.sum(np.abs(cr)) * 2 / nChannels / (nChannels - 1)]\n",
    "    \n",
    "print(synchrony_by_day)\n",
    "    \n",
    "# plt.figure()\n",
    "# plt.plot(synchrony_by_day)\n",
    "# plt.show()"
   ]
  },
  {
   "cell_type": "code",
   "execution_count": null,
   "metadata": {
    "collapsed": true
   },
   "outputs": [],
   "source": []
  }
 ],
 "metadata": {
  "kernelspec": {
   "display_name": "Python 3",
   "language": "python",
   "name": "python3"
  },
  "language_info": {
   "codemirror_mode": {
    "name": "ipython",
    "version": 3
   },
   "file_extension": ".py",
   "mimetype": "text/x-python",
   "name": "python",
   "nbconvert_exporter": "python",
   "pygments_lexer": "ipython3",
   "version": "3.6.4"
  }
 },
 "nbformat": 4,
 "nbformat_minor": 2
}
