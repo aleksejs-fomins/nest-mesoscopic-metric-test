{
 "cells": [
  {
   "cell_type": "code",
   "execution_count": 1,
   "metadata": {},
   "outputs": [
    {
     "name": "stdout",
     "output_type": "stream",
     "text": [
      "Appended library directory /home/alyosha/work/git/nest-mesoscopic-metric-test/codes/lib\n"
     ]
    }
   ],
   "source": [
    "# Standard libraries\n",
    "import numpy as np\n",
    "import h5py\n",
    "import pandas as pd\n",
    "import datetime\n",
    "import matplotlib.pyplot as plt\n",
    "from ipywidgets import interactive, IntProgress\n",
    "from IPython.display import display\n",
    "\n",
    "# Append base directory\n",
    "import os,sys,inspect\n",
    "currentdir = os.path.dirname(os.path.abspath(inspect.getfile(inspect.currentframe())))\n",
    "path1p = os.path.dirname(currentdir)\n",
    "path2p = os.path.dirname(path1p)\n",
    "libpath = os.path.join(path1p, \"lib\")\n",
    "pwd_mat = os.path.join(os.path.join(path2p, \"data/\"), \"sim_ds_mat\")\n",
    "pwd_h5 = os.path.join(os.path.join(path2p, \"data/\"), \"sim_ds_h5\")\n",
    "\n",
    "sys.path.insert(0, libpath)\n",
    "print(\"Appended library directory\", libpath)\n",
    "\n",
    "# User libraries\n",
    "from signal_lib import resample\n",
    "from corr_lib import sprMat, corr3D\n",
    "from analysis.metrics_network import diagDom\n",
    "from qt_wrapper import gui_fnames, gui_fpath\n",
    "\n",
    "from matlab.h5data_lib import readTE_H5, getStatistics, parseTEfolders, getTitlesAndIndices\n",
    "from matlab.matlab_yaro_lib import read_neuro_perf, read_paw, read_lick, read_whisk\n",
    "from matlab.parse_folders import parseFoldersMulti\n",
    "from matlab.preprocess_behaviour import resample_lick, resample_paw, resample_whisk"
   ]
  },
  {
   "cell_type": "code",
   "execution_count": 2,
   "metadata": {
    "collapsed": true
   },
   "outputs": [],
   "source": [
    "%load_ext autoreload\n",
    "%autoreload 2\n",
    "\n",
    "from matlab.parse_folders import parseFoldersMulti"
   ]
  },
  {
   "cell_type": "markdown",
   "metadata": {},
   "source": [
    "# Automatically find subfolders for data and behaviour"
   ]
  },
  {
   "cell_type": "code",
   "execution_count": 3,
   "metadata": {
    "collapsed": true
   },
   "outputs": [],
   "source": [
    "tmp_path = root_path_data if 'root_path_data' in locals() else \"./\"\n",
    "root_path_data  = gui_fpath(\"Path to data collection\", tmp_path)\n",
    "root_path_paw   = gui_fpath(\"Path to Paw data\",        root_path_data)\n",
    "root_path_lick  = gui_fpath(\"Path to Lick data\",       root_path_paw)\n",
    "root_path_whisk = gui_fpath(\"Path to Whisk Data\",      root_path_lick)"
   ]
  },
  {
   "cell_type": "code",
   "execution_count": 4,
   "metadata": {},
   "outputs": [
    {
     "name": "stdout",
     "output_type": "stream",
     "text": [
      "Number of day folders for each mouse\n"
     ]
    },
    {
     "data": {
      "text/html": [
       "<div>\n",
       "<style scoped>\n",
       "    .dataframe tbody tr th:only-of-type {\n",
       "        vertical-align: middle;\n",
       "    }\n",
       "\n",
       "    .dataframe tbody tr th {\n",
       "        vertical-align: top;\n",
       "    }\n",
       "\n",
       "    .dataframe thead th {\n",
       "        text-align: right;\n",
       "    }\n",
       "</style>\n",
       "<table border=\"1\" class=\"dataframe\">\n",
       "  <thead>\n",
       "    <tr style=\"text-align: right;\">\n",
       "      <th></th>\n",
       "      <th>Data</th>\n",
       "      <th>Paw</th>\n",
       "      <th>Lick</th>\n",
       "      <th>Whisk</th>\n",
       "    </tr>\n",
       "  </thead>\n",
       "  <tbody>\n",
       "    <tr>\n",
       "      <th>mtp_1</th>\n",
       "      <td>9</td>\n",
       "      <td>0</td>\n",
       "      <td>11</td>\n",
       "      <td>11</td>\n",
       "    </tr>\n",
       "    <tr>\n",
       "      <th>mtp_11</th>\n",
       "      <td>12</td>\n",
       "      <td>6</td>\n",
       "      <td>15</td>\n",
       "      <td>11</td>\n",
       "    </tr>\n",
       "    <tr>\n",
       "      <th>mtp_16</th>\n",
       "      <td>13</td>\n",
       "      <td>0</td>\n",
       "      <td>13</td>\n",
       "      <td>14</td>\n",
       "    </tr>\n",
       "    <tr>\n",
       "      <th>mtp_12</th>\n",
       "      <td>24</td>\n",
       "      <td>30</td>\n",
       "      <td>20</td>\n",
       "      <td>17</td>\n",
       "    </tr>\n",
       "    <tr>\n",
       "      <th>mtp_13</th>\n",
       "      <td>12</td>\n",
       "      <td>8</td>\n",
       "      <td>13</td>\n",
       "      <td>10</td>\n",
       "    </tr>\n",
       "    <tr>\n",
       "      <th>mtp_7</th>\n",
       "      <td>18</td>\n",
       "      <td>4</td>\n",
       "      <td>23</td>\n",
       "      <td>24</td>\n",
       "    </tr>\n",
       "    <tr>\n",
       "      <th>mtp_15</th>\n",
       "      <td>13</td>\n",
       "      <td>0</td>\n",
       "      <td>13</td>\n",
       "      <td>14</td>\n",
       "    </tr>\n",
       "    <tr>\n",
       "      <th>mtp_2</th>\n",
       "      <td>8</td>\n",
       "      <td>0</td>\n",
       "      <td>8</td>\n",
       "      <td>10</td>\n",
       "    </tr>\n",
       "    <tr>\n",
       "      <th>mtp_10</th>\n",
       "      <td>8</td>\n",
       "      <td>11</td>\n",
       "      <td>10</td>\n",
       "      <td>8</td>\n",
       "    </tr>\n",
       "  </tbody>\n",
       "</table>\n",
       "</div>"
      ],
      "text/plain": [
       "        Data  Paw  Lick  Whisk\n",
       "mtp_1      9    0    11     11\n",
       "mtp_11    12    6    15     11\n",
       "mtp_16    13    0    13     14\n",
       "mtp_12    24   30    20     17\n",
       "mtp_13    12    8    13     10\n",
       "mtp_7     18    4    23     24\n",
       "mtp_15    13    0    13     14\n",
       "mtp_2      8    0     8     10\n",
       "mtp_10     8   11    10      8"
      ]
     },
     "execution_count": 4,
     "metadata": {},
     "output_type": "execute_result"
    }
   ],
   "source": [
    "pathDataSets, summary = parseFoldersMulti(root_path_data, root_path_paw, root_path_lick, root_path_whisk)\n",
    "\n",
    "print(\"Number of day folders for each mouse\")\n",
    "pd.DataFrame(summary)"
   ]
  },
  {
   "cell_type": "markdown",
   "metadata": {},
   "source": [
    "# Read available data and behaviour, resample"
   ]
  },
  {
   "cell_type": "code",
   "execution_count": 5,
   "metadata": {
    "collapsed": true
   },
   "outputs": [],
   "source": [
    "def findPathIdx(typeKey, mouseDayKey):\n",
    "    rez = np.where((micePathArr[:, 1] == typeKey)&(micePathArr[:, 3] == mouseDayKey))[0]\n",
    "    if len(rez)==0:\n",
    "        return None\n",
    "    elif len(rez)==1:\n",
    "        return rez[0]\n",
    "    else:\n",
    "        raise ValueError(\"Expected 0 or 1 results, got\", len(rez))\n",
    "        \n",
    "def findDataIdx(pathIdx):\n",
    "    return np.where(miceDataIdxs == pathIdx)[0][0]\n",
    "\n",
    "def pd_filter(data, k, v):\n",
    "    return data[data[k] == v]"
   ]
  },
  {
   "cell_type": "code",
   "execution_count": 8,
   "metadata": {
    "scrolled": false
   },
   "outputs": [
    {
     "data": {
      "application/vnd.jupyter.widget-view+json": {
       "model_id": "ee318553898a4a9786cb9d6776d6c123",
       "version_major": 2,
       "version_minor": 0
      },
      "text/plain": [
       "IntProgress(value=0, description='Read Neuro Data:', max=117)"
      ]
     },
     "metadata": {},
     "output_type": "display_data"
    },
    {
     "name": "stdout",
     "output_type": "stream",
     "text": [
      "Behaviour has more trials than data 438 437\n",
      "Behaviour max index must be less than number of trials 437 437\n",
      "Target trial within [0, 8] sec. Total target timesteps 161\n"
     ]
    }
   ],
   "source": [
    "# Read Neuronal data\n",
    "dataNeuronal = []\n",
    "dataTrials   = []\n",
    "N_DATA_FILES = pathDataSets['data_path'].shape[0]\n",
    "progBar = IntProgress(min=0, max=N_DATA_FILES, description='Read Neuro Data:')\n",
    "display(progBar) # display the bar\n",
    "for datapath in pathDataSets['data_path']['path']:\n",
    "    data, behaviour = read_neuro_perf(datapath, verbose=False)\n",
    "    dataNeuronal += [data]\n",
    "    dataTrials   += [behaviour]\n",
    "    progBar.value += 1\n",
    "    \n",
    "# Define resampling frequency\n",
    "TARGET_RANGE = [0, 8] # Seconds goal\n",
    "TARGET_FREQ = 20 # Hz\n",
    "TARGET_NTIMES = int((TARGET_RANGE[1]-TARGET_RANGE[0])*TARGET_FREQ) + 1\n",
    "TARGET_TIMES = np.linspace(TARGET_RANGE[0], TARGET_RANGE[1], TARGET_NTIMES)\n",
    "print(\"Target trial within\", TARGET_RANGE, \"sec. Total target timesteps\", TARGET_NTIMES)\n",
    "    \n",
    "# # Read and resample paw\n",
    "# N_PAW_FILES = pathDataSets['paw_path'].shape[0]\n",
    "# dataPawResampled = []\n",
    "# progBar = IntProgress(min=0, max=N_PAW_FILES, description='Read paw data:')\n",
    "# display(progBar) # display the bar\n",
    "# for pawpath in pathDataSets['paw_path']['path']:\n",
    "#     dataPaw = read_paw(pawpath, verbose=False)\n",
    "#     dataPawResampled += [resample_paw(dataPaw, TARGET_TIMES, TARGET_FREQ)]\n",
    "#     progBar.value += 1\n",
    "\n",
    "# # Read and resample lick\n",
    "# N_LICK_FILES = pathDataSets['lick_path'].shape[0]\n",
    "# dataLickResampled = []\n",
    "# progBar = IntProgress(min=0, max=N_LICK_FILES, description='Read lick data:')\n",
    "# display(progBar) # display the bar\n",
    "\n",
    "# for index, row in pathDataSets['lick_path'].iterrows():\n",
    "#     # Find behaviour associated with this lick\n",
    "#     dataIdxs = pd_filter(pathDataSets['data_path'], 'mousekey', row['mousekey']).index\n",
    "#     if dataIdxs.shape[0] == 0:\n",
    "#         dataLickResampled += [None]\n",
    "#     else:\n",
    "#         dataIdx = dataIdxs[0]\n",
    "#         neuro = dataNeuronal[dataIdx]\n",
    "#         behaviour = dataTrials[dataIdx]\n",
    "#         dataLick = read_lick(row['path'], verbose=False)\n",
    "#         dataLickResampled += [resample_lick(dataLick, neuro, behaviour, TARGET_TIMES, TARGET_FREQ)]\n",
    "#     progBar.value += 1\n",
    "\n",
    "# # Read and resample whisk\n",
    "# N_WHISK_FILES = pathDataSets['whisk_path'].shape[0]\n",
    "# progBar = IntProgress(min=0, max=N_WHISK_FILES, description='Read whisk data:')\n",
    "# display(progBar) # display the bar\n",
    "# dataWhiskResampled = []\n",
    "# for whiskpath in pathDataSets['whisk_path']['path']:\n",
    "#     dataWhisk = read_whisk(whiskpath, verbose=False)\n",
    "#     dataWhiskResampled += [resample_whisk(dataWhisk, TARGET_TIMES)]\n",
    "#     progBar.value += 1"
   ]
  },
  {
   "cell_type": "markdown",
   "metadata": {},
   "source": [
    "# Analysis\n",
    "\n",
    "## 1. Correlation and Synchrony"
   ]
  },
  {
   "cell_type": "code",
   "execution_count": 55,
   "metadata": {},
   "outputs": [
    {
     "data": {
      "image/png": "[encoded data removed]",
      "text/plain": [
       "<Figure size 432x288 with 1 Axes>"
      ]
     },
     "metadata": {
      "needs_background": "light"
     },
     "output_type": "display_data"
    }
   ],
   "source": [
    "mice = list(set(pathDataSets['channel_labels']['mousename']))\n",
    "dateDiff = lambda l: [(v - l.iloc[0]).days for v in l]\n",
    "\n",
    "plt.figure()\n",
    "\n",
    "for mousename in mice:\n",
    "    mouseData = pd_filter(pathDataSets['data_path'], 'mousename', mousename)\n",
    "    if mouseData.shape[0] > 0:\n",
    "    \n",
    "        deltaDays = dateDiff(mouseData[\"date\"])\n",
    "        dataIdxs = list(mouseData[\"date\"].index)\n",
    "        synchr = [diagDom(corr3D(dataNeuronal[dataIdx])) for dataIdx in dataIdxs]\n",
    "            \n",
    "        plt.plot(deltaDays, synchr, label=mousename)\n",
    "\n",
    "plt.xlabel(\"Days from start\")\n",
    "plt.ylabel(\"Synchronization Coefficient\")\n",
    "plt.legend()\n",
    "plt.show()"
   ]
  },
  {
   "cell_type": "code",
   "execution_count": null,
   "metadata": {
    "collapsed": true
   },
   "outputs": [],
   "source": []
  }
 ],
 "metadata": {
  "kernelspec": {
   "display_name": "Python 3",
   "language": "python",
   "name": "python3"
  },
  "language_info": {
   "codemirror_mode": {
    "name": "ipython",
    "version": 3
   },
   "file_extension": ".py",
   "mimetype": "text/x-python",
   "name": "python",
   "nbconvert_exporter": "python",
   "pygments_lexer": "ipython3",
   "version": "3.6.4"
  }
 },
 "nbformat": 4,
 "nbformat_minor": 2
}
