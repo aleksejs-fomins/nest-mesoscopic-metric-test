{
 "cells": [
  {
   "cell_type": "code",
   "execution_count": 167,
   "metadata": {},
   "outputs": [
    {
     "name": "stdout",
     "output_type": "stream",
     "text": [
      "Appended library directory /media/aleksejs/DataHDD/work/codes/theoretical-models/experimental-bridge/nest-mesoscopic-metric-test/codes/lib\n"
     ]
    }
   ],
   "source": [
    "# Standard libraries\n",
    "import numpy as np\n",
    "import pandas as pd\n",
    "import matplotlib.pyplot as plt\n",
    "from IPython.display import display, HTML\n",
    "from sklearn.decomposition import PCA\n",
    "\n",
    "# Append base directory\n",
    "import os,sys,inspect\n",
    "currentdir = os.path.dirname(os.path.abspath(inspect.getfile(inspect.currentframe())))\n",
    "path1p = os.path.dirname(currentdir)\n",
    "path2p = os.path.dirname(path1p)\n",
    "libpath = os.path.join(path1p, \"lib\")\n",
    "pwd_mat = os.path.join(os.path.join(path2p, \"data/\"), \"sim_ds_mat\")\n",
    "pwd_h5 = os.path.join(os.path.join(path2p, \"data/\"), \"sim_ds_h5\")\n",
    "\n",
    "sys.path.insert(0, libpath)\n",
    "print(\"Appended library directory\", libpath)\n",
    "\n",
    "# User libraries\n",
    "from matlab.matlab_yaro_lib import read_mat\n",
    "from corr_lib import sprMat\n",
    "from qt_wrapper import gui_fpath"
   ]
  },
  {
   "cell_type": "markdown",
   "metadata": {},
   "source": [
    "## 0. Loading data"
   ]
  },
  {
   "cell_type": "code",
   "execution_count": 3,
   "metadata": {},
   "outputs": [
    {
     "name": "stdout",
     "output_type": "stream",
     "text": [
      "Reading Yaro data from /mnt/hifo_scratch1/Yaro/data_for_TE/mtp/mtp_15/mtp_15_2018_05_16_a\n",
      "Loaded neuronal data with (nTrials, nTimes, nChannels)= (338, 201, 12)\n"
     ]
    }
   ],
   "source": [
    "# Read LVM file from command line\n",
    "data_path = gui_fpath(\"Select data directory\", \"./\")\n",
    "data, behaviour = read_mat(data_path)\n",
    "\n",
    "# Get parameters\n",
    "nTrials, nTimes, nChannels = data.shape\n",
    "print(\"Loaded neuronal data with (nTrials, nTimes, nChannels)=\", data.shape)"
   ]
  },
  {
   "cell_type": "markdown",
   "metadata": {
    "collapsed": true
   },
   "source": [
    "# PCA model\n",
    "\n",
    "Let's check how much information there is in the data\n",
    "\n",
    "Strategy\n",
    "1. Flatten vars=times x channels, so resulting data is trials x vars\n",
    "2. Do PCA, plot sorted eigs"
   ]
  },
  {
   "cell_type": "code",
   "execution_count": 176,
   "metadata": {},
   "outputs": [
    {
     "data": {
      "image/png": "[encoded data removed]",
      "text/plain": [
       "<matplotlib.figure.Figure at 0x7f2192348908>"
      ]
     },
     "metadata": {},
     "output_type": "display_data"
    }
   ],
   "source": [
    "pca = PCA()\n",
    "pca.fit(data.reshape(nTrials, nTimes*nChannels))\n",
    "exp_var = pca.explained_variance_ratio_\n",
    "\n",
    "plt.figure(figsize=(10,5))\n",
    "plt.loglog(np.flip(np.sort(exp_var)))\n",
    "plt.ylim([1.0e-5, 1.0])\n",
    "plt.show()"
   ]
  },
  {
   "cell_type": "code",
   "execution_count": null,
   "metadata": {
    "collapsed": true
   },
   "outputs": [],
   "source": []
  }
 ],
 "metadata": {
  "kernelspec": {
   "display_name": "Python (py36qt5)",
   "language": "python",
   "name": "py36qt5"
  },
  "language_info": {
   "codemirror_mode": {
    "name": "ipython",
    "version": 3
   },
   "file_extension": ".py",
   "mimetype": "text/x-python",
   "name": "python",
   "nbconvert_exporter": "python",
   "pygments_lexer": "ipython3",
   "version": "3.6.4"
  }
 },
 "nbformat": 4,
 "nbformat_minor": 2
}
