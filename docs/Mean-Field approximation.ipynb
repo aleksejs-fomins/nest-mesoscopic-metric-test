{
 "cells": [
  {
   "cell_type": "markdown",
   "metadata": {},
   "source": [
    "## Find Spike Rate\n",
    "### Problem 0.1: Non-leaky, input varies slowly compared to spike rate \n",
    "\n",
    "$\\dot{u}(t) = I$\n",
    "\n",
    "$u(t) = It$\n",
    "\n",
    "$u_{max} = \\frac{I}{r}$\n",
    "\n",
    "$r = \\frac{I}{u_{max}}$\n",
    "\n",
    "Conclusion: Rate scales linearly with input, as expected\n",
    "\n",
    "### Problem 0.2: Non-leaky, input variability comparable with spike rate\n",
    "\n",
    "$\\dot{u}(t) = I(t)$\n",
    "\n",
    "$u(t_{i+1}) = \\int_0^{t_{i+1} - t_i}I(t + t_i)dt = F(t_{i+1} - t_i, t_i)$\n",
    "\n",
    "$r_{i+1} = \\frac{1}{F^{-1}(u_{max}, t_i)}$\n",
    "\n",
    "Conclusion: Spike rate defined via immediate inter-spike interval varies with every spike, and depends strongly on when the spike happens. This is not the quantity we are after\n",
    "\n",
    "### Problem 0.3: Leaky, slow input\n",
    "\n",
    "Now assume leaky neurons\n",
    "\n",
    "$\\dot{u} = -\\frac{u}{\\tau} + I$\n",
    "\n",
    "$\\frac{d}{dt}\\bigl(e^{t/\\tau}u \\bigr) = Ie^{t/\\tau}$\n",
    "\n",
    "$u = Ce^{-t/\\tau} + I \\tau$\n",
    "\n",
    "$u = I \\tau (1 - e^{-t/\\tau})$\n",
    "\n",
    "$u_{max} = I(t) \\tau (1 - e^{-1/r(t)\\tau})$\n",
    "\n",
    "$r(t)\\tau = \\Theta ( I \\tau - u_{max} )  \\log \\biggl(\\frac{I\\tau}{I\\tau - u_{max}} \\biggr)^{-1}$\n",
    "\n",
    "$r(t)\\tau \\approx \\frac{I \\tau}{u_{max}}$\n",
    "\n",
    "Problem here is that the equation is ill-posed in case $u_{max} > I\\tau$, since spiking is impossible. One solution is to consider a more realistic neuron with additional gaussian noisy input of variance $\\sigma^2$. Then the neuron always has a chance to spike.\n",
    "\n",
    "### Problem 0.4: Non-leaky, slow input, noisy\n",
    "\n",
    "$\\dot{u}(t) = I + N(t)$\n",
    "\n",
    "where $\\xi(b-a) = \\int_a^b N(t)dt \\sim \\mathcal{N}(0, \\sigma^2 (b-a))$\n",
    "\n",
    "$u_{max} = It + \\xi(t) = It + \\xi_0 \\sqrt{t}$\n",
    "\n",
    "$P[\\xi_0 > \\frac{u_{max} -It}{\\sqrt{t}}] = erfc^{-1}(\\frac{u_{max} -It}{\\sqrt{t}})$\n",
    "\n",
    "Ok, so we know the probability that the threshold is crossed at any moment in time. Now, how do we find the expected time at which the threshold was crossed the first time?"
   ]
  },
  {
   "cell_type": "markdown",
   "metadata": {},
   "source": []
  },
  {
   "cell_type": "code",
   "execution_count": 4,
   "metadata": {},
   "outputs": [
    {
     "name": "stderr",
     "output_type": "stream",
     "text": [
      "/opt/anaconda3/envs/py36qt5/lib/python3.6/site-packages/ipykernel_launcher.py:5: RuntimeWarning: divide by zero encountered in true_divide\n",
      "  \"\"\"\n"
     ]
    },
    {
     "data": {
      "image/png": "[encoded data removed]",
      "text/plain": [
       "<Figure size 432x288 with 1 Axes>"
      ]
     },
     "metadata": {},
     "output_type": "display_data"
    }
   ],
   "source": [
    "import numpy as np\n",
    "import matplotlib.pyplot as plt\n",
    "\n",
    "I = np.linspace(1,2,200)\n",
    "r = 1 / np.log(I / (I - 1))\n",
    "\n",
    "plt.figure()\n",
    "plt.semilogx(I, r)\n",
    "plt.show()\n",
    "\n"
   ]
  },
  {
   "cell_type": "code",
   "execution_count": 11,
   "metadata": {},
   "outputs": [
    {
     "data": {
      "image/png": "[encoded data removed]",
      "text/plain": [
       "<Figure size 432x288 with 1 Axes>"
      ]
     },
     "metadata": {},
     "output_type": "display_data"
    }
   ],
   "source": [
    "def h(t,tau1, tau2):\n",
    "    return (np.exp(-t/tau1) - np.exp(-t/tau2))/(tau1-tau2)\n",
    "\n",
    "plt.figure()\n",
    "t = np.linspace(0,5,100)\n",
    "plt.plot(t, h(t,1,0.5))\n",
    "plt.show()\n"
   ]
  },
  {
   "cell_type": "code",
   "execution_count": null,
   "metadata": {},
   "outputs": [],
   "source": []
  }
 ],
 "metadata": {
  "kernelspec": {
   "display_name": "Py36qt5",
   "language": "python",
   "name": "py36qt5"
  },
  "language_info": {
   "codemirror_mode": {
    "name": "ipython",
    "version": 3
   },
   "file_extension": ".py",
   "mimetype": "text/x-python",
   "name": "python",
   "nbconvert_exporter": "python",
   "pygments_lexer": "ipython3",
   "version": "3.6.5"
  }
 },
 "nbformat": 4,
 "nbformat_minor": 2
}
